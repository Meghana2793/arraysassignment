{
 "cells": [
  {
   "cell_type": "code",
   "execution_count": 38,
   "id": "346f4725-07ff-4008-9fb8-e267e2cb671b",
   "metadata": {},
   "outputs": [
    {
     "data": {
      "text/plain": [
       "True"
      ]
     },
     "execution_count": 38,
     "metadata": {},
     "output_type": "execute_result"
    }
   ],
   "source": [
    "#1. Given an array, check if it contains any duplicates or not.\n",
    "#arr=[1, 2, 4, 2, 5, 9]\n",
    "def containsduplicates(arr):\n",
    "    n=len(arr)\n",
    "    #here set helps to remove the duplicates in an array\n",
    "    unique_elements=set(arr)\n",
    "    #iterating the array\n",
    "    for i in range(n):\n",
    "        if len(arr)==len(unique_elements):#checking whether the length of an array and set of an array equal or not if it is equal \n",
    "                                          # an array doesnt contain any duplicate elements so it return false or else it reurn true\n",
    "                return False\n",
    "    return True\n",
    "arr = [1, 2, 4, 2, 5, 9]  \n",
    "containsduplicates(arr)"
   ]
  },
  {
   "cell_type": "code",
   "execution_count": 21,
   "id": "b96e3599-6f55-4f4b-a041-261ccff93767",
   "metadata": {},
   "outputs": [
    {
     "name": "stdout",
     "output_type": "stream",
     "text": [
      "[5, 6, 7, 1, 2, 3, 4]\n"
     ]
    }
   ],
   "source": [
    "#2. Given an array and an integer k, rotate the array to the right by k steps.\n",
    "#arr = [1, 2, 3, 4, 5, 6, 7] k = 3\n",
    "def rotate_array(arr, k):\n",
    "    k = k % len(arr)\n",
    "\n",
    "    rotated_arr = arr[-k:] + arr[:-k]\n",
    "    \n",
    "    return rotated_arr\n",
    "arr = [1, 2, 3, 4, 5, 6, 7]\n",
    "k = 3\n",
    "print(rotate_array(arr, k)) "
   ]
  },
  {
   "cell_type": "code",
   "execution_count": 40,
   "id": "d8864ace-a2fd-4f18-be90-64e8b91c3c7f",
   "metadata": {},
   "outputs": [
    {
     "name": "stdout",
     "output_type": "stream",
     "text": [
      "[12, 9, 7, 5, 4, 2]\n"
     ]
    }
   ],
   "source": [
    "#3. Reverse the given array in-place, means without using any extra data structure.\n",
    "#arr = [2, 4, 5, 7, 9, 12]\n",
    "def reversearray(arr):\n",
    "       print( arr[: : -1])\n",
    "arr = [2, 4, 5, 7, 9, 12]\n",
    "reversearray(arr)            "
   ]
  },
  {
   "cell_type": "code",
   "execution_count": 39,
   "id": "b3252c89-2b69-4683-a2a0-6bc59b5489c8",
   "metadata": {},
   "outputs": [
    {
     "data": {
      "text/plain": [
       "20"
      ]
     },
     "execution_count": 39,
     "metadata": {},
     "output_type": "execute_result"
    }
   ],
   "source": [
    "#4. Given an array of integers, find the maximum element in an array\n",
    "#arr = [10, 5, 20, 8, 15]\n",
    "def maximum_element(arr):\n",
    "    maximum=arr[0]# intialising that maximum number is first element \n",
    "    for i in arr[1:]:#iterating from the second element\n",
    "        if i > maximum:#if i is greater than intial element\n",
    "            maximum=i  #then maximum element is i\n",
    "            \n",
    "    return maximum\n",
    "arr = [10, 5, 20, 8, 15]\n",
    "maximum_element(arr)"
   ]
  },
  {
   "cell_type": "code",
   "execution_count": 41,
   "id": "917525c4-cd57-4a7c-963c-fe69bf3dba90",
   "metadata": {},
   "outputs": [
    {
     "data": {
      "text/plain": [
       "[1, 2, 3, 4, 5]"
      ]
     },
     "execution_count": 41,
     "metadata": {},
     "output_type": "execute_result"
    }
   ],
   "source": [
    "#5. Given a sorted array, remove the duplicate element without using any extra data structure.\n",
    "#arr = [1, 1, 2, 2, 2, 3, 3, 4, 4, 4, 5, 5]\n",
    "def removeduplicates(arr):\n",
    "    unique_elements=list(set(arr))\n",
    "    return unique_elements\n",
    "arr = [1, 1, 2, 2, 2, 3, 3, 4, 4, 4, 5, 5]\n",
    "removeduplicates(arr)"
   ]
  }
 ],
 "metadata": {
  "kernelspec": {
   "display_name": "Python 3 (ipykernel)",
   "language": "python",
   "name": "python3"
  },
  "language_info": {
   "codemirror_mode": {
    "name": "ipython",
    "version": 3
   },
   "file_extension": ".py",
   "mimetype": "text/x-python",
   "name": "python",
   "nbconvert_exporter": "python",
   "pygments_lexer": "ipython3",
   "version": "3.10.8"
  }
 },
 "nbformat": 4,
 "nbformat_minor": 5
}
